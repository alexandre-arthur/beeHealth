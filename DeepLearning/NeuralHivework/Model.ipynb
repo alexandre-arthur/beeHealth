{
 "cells": [
  {
   "cell_type": "markdown",
   "metadata": {},
   "source": [
    " <font size=\"10\"> DOESN'T WORK FOR LINUX </font>\n",
    "  <font size=\"1\"> (Sorry) </font>"
   ]
  },
  {
   "cell_type": "markdown",
   "metadata": {},
   "source": [
    "File to use the Machine Learning in the project"
   ]
  },
  {
   "cell_type": "code",
   "execution_count": 23,
   "metadata": {},
   "outputs": [
    {
     "name": "stdout",
     "output_type": "stream",
     "text": [
      "c:\\Users\\garni\\Documents\\Oulu\\Stage\\beeHealth\n"
     ]
    }
   ],
   "source": [
    "# Import the other files in the project\n",
    "\n",
    "import ModelFunctions as model\n",
    "import HoneyDatasetCreator as datasetCreator\n",
    "import os\n",
    "\n",
    "while \"Audio\" not in os.listdir():\n",
    "    os.chdir(\"../\")\n",
    "\n",
    "print(os.getcwd())"
   ]
  },
  {
   "cell_type": "markdown",
   "metadata": {},
   "source": [
    "To create the dataset for the ML"
   ]
  },
  {
   "cell_type": "code",
   "execution_count": 26,
   "metadata": {},
   "outputs": [
    {
     "name": "stdout",
     "output_type": "stream",
     "text": [
      "Starting CF003 - Active - Day - (215)\n",
      "CF003 - Active - Day - (215) is done in 0.3862171173095703s (1/52).\n",
      "Starting CF003 - Active - Day - (216)\n",
      "CF003 - Active - Day - (216) is done in 0.1950826644897461s (2/52).\n",
      "Starting CF003 - Active - Day - (217)\n",
      "CF003 - Active - Day - (217) is done in 0.3242781162261963s (3/52).\n",
      "Starting CF003 - Active - Day - (218)\n",
      "CF003 - Active - Day - (218) is done in 0.3409743309020996s (4/52).\n",
      "Starting CF003 - Active - Day - (219)\n",
      "CF003 - Active - Day - (219) is done in 0.13114333152770996s (5/52).\n",
      "Starting CF003 - Active - Day - (220)\n",
      "CF003 - Active - Day - (220) is done in 0.08865785598754883s (6/52).\n",
      "Starting CF003 - Active - Day - (221)\n",
      "CF003 - Active - Day - (221) is done in 0.169633150100708s (7/52).\n",
      "Starting CF003 - Active - Day - (222)\n",
      "CF003 - Active - Day - (222) is done in 0.11260223388671875s (8/52).\n",
      "Starting CF003 - Active - Day - (223)\n",
      "CF003 - Active - Day - (223) is done in 0.08910179138183594s (9/52).\n",
      "Starting CF003 - Active - Day - (224)\n",
      "CF003 - Active - Day - (224) is done in 0.19729375839233398s (10/52).\n",
      "Starting CF003 - Active - Day - (225)\n",
      "CF003 - Active - Day - (225) is done in 0.08706188201904297s (11/52).\n",
      "Starting CF003 - Active - Day - (226)\n",
      "CF003 - Active - Day - (226) is done in 0.16209864616394043s (12/52).\n",
      "Starting CF003 - Active - Day - (227)\n",
      "CF003 - Active - Day - (227) is done in 0.4782707691192627s (13/52).\n",
      "Starting CJ001 - Missing Queen - Day -  (100)\n",
      "CJ001 - Missing Queen - Day -  (100) is done in 0.008026599884033203s (14/52).\n",
      "Starting CJ001 - Missing Queen - Day -  (101)\n",
      "CJ001 - Missing Queen - Day -  (101) is done in 0.21065068244934082s (15/52).\n",
      "Starting CJ001 - Missing Queen - Day -  (102)\n",
      "CJ001 - Missing Queen - Day -  (102) is done in 0.29778051376342773s (16/52).\n",
      "Starting CJ001 - Missing Queen - Day -  (103)\n",
      "CJ001 - Missing Queen - Day -  (103) is done in 0.20259523391723633s (17/52).\n",
      "Starting CJ001 - Missing Queen - Day -  (104)\n",
      "CJ001 - Missing Queen - Day -  (104) is done in 0.007996320724487305s (18/52).\n",
      "Starting Hive1_12_06_2018_QueenBee_H1_audio___15_00_00\n",
      "Hive1_12_06_2018_QueenBee_H1_audio___15_00_00 is done in 1.0117261409759521s (19/52).\n",
      "Starting Hive1_12_06_2018_QueenBee_H1_audio___15_10_00\n",
      "Hive1_12_06_2018_QueenBee_H1_audio___15_10_00 is done in 0.9865999221801758s (20/52).\n",
      "Starting Hive1_12_06_2018_QueenBee_H1_audio___15_20_00\n",
      "Hive1_12_06_2018_QueenBee_H1_audio___15_20_00 is done in 0.6721904277801514s (21/52).\n",
      "Starting Hive1_12_06_2018_QueenBee_H1_audio___15_30_00\n",
      "Hive1_12_06_2018_QueenBee_H1_audio___15_30_00 is done in 0.5667221546173096s (22/52).\n",
      "Starting Hive1_12_06_2018_QueenBee_H1_audio___15_40_00\n",
      "Hive1_12_06_2018_QueenBee_H1_audio___15_40_00 is done in 0.7920703887939453s (23/52).\n",
      "Starting Hive1_12_06_2018_QueenBee_H1_audio___16_00_00\n",
      "Hive1_12_06_2018_QueenBee_H1_audio___16_00_00 is done in 1.154306173324585s (24/52).\n",
      "Starting Hive1_12_06_2018_QueenBee_H1_audio___16_10_00\n",
      "Hive1_12_06_2018_QueenBee_H1_audio___16_10_00 is done in 1.329226016998291s (25/52).\n",
      "Starting Hive1_12_06_2018_QueenBee_H1_audio___16_20_00\n",
      "Hive1_12_06_2018_QueenBee_H1_audio___16_20_00 is done in 0.7437663078308105s (26/52).\n",
      "Starting Hive1_12_06_2018_QueenBee_H1_audio___16_30_00\n",
      "Hive1_12_06_2018_QueenBee_H1_audio___16_30_00 is done in 0.7295191287994385s (27/52).\n",
      "Starting Hive1_12_06_2018_QueenBee_H1_audio___16_40_00\n",
      "Warning : Size of the data os 29767, expected 55125\n",
      "Hive1_12_06_2018_QueenBee_H1_audio___16_40_00 is done in 1.0888886451721191s (28/52).\n",
      "Starting Hive1_12_06_2018_QueenBee_H1_audio___16_50_00\n",
      "Hive1_12_06_2018_QueenBee_H1_audio___16_50_00 is done in 0.7526402473449707s (29/52).\n",
      "Starting Hive1_12_06_2018_QueenBee_H1_audio___17_00_00\n",
      "Hive1_12_06_2018_QueenBee_H1_audio___17_00_00 is done in 0.9752826690673828s (30/52).\n",
      "Starting Hive1_31_05_2018_NO_QueenBee_H1_audio___15_00_00\n",
      "Hive1_31_05_2018_NO_QueenBee_H1_audio___15_00_00 is done in 0.6313631534576416s (31/52).\n",
      "Starting Hive1_31_05_2018_NO_QueenBee_H1_audio___15_10_00\n",
      "Hive1_31_05_2018_NO_QueenBee_H1_audio___15_10_00 is done in 1.5119273662567139s (32/52).\n",
      "Starting Hive1_31_05_2018_NO_QueenBee_H1_audio___15_20_00\n",
      "Hive1_31_05_2018_NO_QueenBee_H1_audio___15_20_00 is done in 0.7645437717437744s (33/52).\n",
      "Starting Hive1_31_05_2018_NO_QueenBee_H1_audio___15_30_00\n",
      "Hive1_31_05_2018_NO_QueenBee_H1_audio___15_30_00 is done in 0.32341885566711426s (34/52).\n",
      "Starting Hive1_31_05_2018_NO_QueenBee_H1_audio___15_40_00\n",
      "Hive1_31_05_2018_NO_QueenBee_H1_audio___15_40_00 is done in 0.10486674308776855s (35/52).\n",
      "Starting Hive3_12_07_2017_NO_QueenBee_H3_audio___15_00_00\n",
      "Hive3_12_07_2017_NO_QueenBee_H3_audio___15_00_00 is done in 0.667456865310669s (36/52).\n",
      "Starting Hive3_12_07_2017_NO_QueenBee_H3_audio___15_10_00\n",
      "Hive3_12_07_2017_NO_QueenBee_H3_audio___15_10_00 is done in 0.8551442623138428s (37/52).\n",
      "Starting Hive3_12_07_2017_NO_QueenBee_H3_audio___15_20_00\n",
      "Hive3_12_07_2017_NO_QueenBee_H3_audio___15_20_00 is done in 1.0094153881072998s (38/52).\n",
      "Starting Hive3_12_07_2017_NO_QueenBee_H3_audio___15_30_00\n",
      "Hive3_12_07_2017_NO_QueenBee_H3_audio___15_30_00 is done in 0.8872818946838379s (39/52).\n",
      "Starting Hive3_12_07_2017_NO_QueenBee_H3_audio___15_40_00\n",
      "Hive3_12_07_2017_NO_QueenBee_H3_audio___15_40_00 is done in 0.7648782730102539s (40/52).\n",
      "Starting Hive3_12_07_2017_NO_QueenBee_H3_audio___16_20_00\n",
      "Hive3_12_07_2017_NO_QueenBee_H3_audio___16_20_00 is done in 0.5241575241088867s (41/52).\n",
      "Starting Hive3_12_07_2017_NO_QueenBee_H3_audio___16_30_00\n",
      "Hive3_12_07_2017_NO_QueenBee_H3_audio___16_30_00 is done in 0.5862855911254883s (42/52).\n",
      "Starting Hive3_12_07_2017_NO_QueenBee_H3_audio___16_40_00\n",
      "Hive3_12_07_2017_NO_QueenBee_H3_audio___16_40_00 is done in 0.7638964653015137s (43/52).\n",
      "Starting Hive3_12_07_2017_NO_QueenBee_H3_audio___16_50_00\n",
      "Hive3_12_07_2017_NO_QueenBee_H3_audio___16_50_00 is done in 0.7997827529907227s (44/52).\n",
      "Starting Hive3_12_07_2017_NO_QueenBee_H3_audio___17_00_00\n",
      "Hive3_12_07_2017_NO_QueenBee_H3_audio___17_00_00 is done in 0.7366359233856201s (45/52).\n",
      "Starting Hive3_15_07_2017_NO_QueenBee_H3_audio___06_10_00\n",
      "Hive3_15_07_2017_NO_QueenBee_H3_audio___06_10_00 is done in 0.855405330657959s (46/52).\n",
      "Starting Hive3_15_07_2017_NO_QueenBee_H3_audio___06_20_00\n",
      "Hive3_15_07_2017_NO_QueenBee_H3_audio___06_20_00 is done in 0.8664281368255615s (47/52).\n",
      "Starting Hive3_15_07_2017_NO_QueenBee_H3_audio___06_30_00\n",
      "Hive3_15_07_2017_NO_QueenBee_H3_audio___06_30_00 is done in 0.875725269317627s (48/52).\n",
      "Starting Hive3_15_07_2017_NO_QueenBee_H3_audio___06_40_00\n",
      "Hive3_15_07_2017_NO_QueenBee_H3_audio___06_40_00 is done in 0.7963173389434814s (49/52).\n",
      "Starting Hive3_15_07_2017_NO_QueenBee_H3_audio___06_50_00\n",
      "Hive3_15_07_2017_NO_QueenBee_H3_audio___06_50_00 is done in 0.7062442302703857s (50/52).\n",
      "Starting Hive3_15_07_2017_NO_QueenBee_H3_audio___07_00_00\n",
      "Hive3_15_07_2017_NO_QueenBee_H3_audio___07_00_00 is done in 0.5698814392089844s (51/52).\n",
      "Starting Hive3_20_07_2017_QueenBee_H3_audio___06_10_00\n",
      "Hive3_20_07_2017_QueenBee_H3_audio___06_10_00 is done in 1.2471845149993896s (52/52).\n",
      "Everything is done in 31.195313453674316s\n",
      "Size of a line : 55125\n",
      "Starting CF003 - Active - Day - (215)\n",
      "CF003 - Active - Day - (215) is done in 0.5378663539886475s (1/52)\n",
      "Starting CF003 - Active - Day - (216)\n",
      "CF003 - Active - Day - (216) is done in 0.12907910346984863s (2/52)\n",
      "Starting CF003 - Active - Day - (217)\n",
      "Warning : Size of the data os 16537, expected 27562\n",
      "CF003 - Active - Day - (217) is done in 0.4350576400756836s (3/52)\n",
      "Starting CF003 - Active - Day - (218)\n",
      "CF003 - Active - Day - (218) is done in 0.18485355377197266s (4/52)\n",
      "Starting CF003 - Active - Day - (219)\n",
      "CF003 - Active - Day - (219) is done in 0.737647533416748s (5/52)\n",
      "Starting CF003 - Active - Day - (220)\n",
      "CF003 - Active - Day - (220) is done in 0.0442652702331543s (6/52)\n",
      "Starting CF003 - Active - Day - (221)\n",
      "CF003 - Active - Day - (221) is done in 0.07627630233764648s (7/52)\n",
      "Starting CF003 - Active - Day - (222)\n",
      "CF003 - Active - Day - (222) is done in 0.03225398063659668s (8/52)\n",
      "Starting CF003 - Active - Day - (223)\n",
      "CF003 - Active - Day - (223) is done in 0.09642314910888672s (9/52)\n",
      "Starting CF003 - Active - Day - (224)\n",
      "CF003 - Active - Day - (224) is done in 0.10433554649353027s (10/52)\n",
      "Starting CF003 - Active - Day - (225)\n",
      "CF003 - Active - Day - (225) is done in 0.04000139236450195s (11/52)\n",
      "Starting CF003 - Active - Day - (226)\n",
      "CF003 - Active - Day - (226) is done in 0.07269620895385742s (12/52)\n",
      "Starting CF003 - Active - Day - (227)\n",
      "CF003 - Active - Day - (227) is done in 0.20930123329162598s (13/52)\n",
      "Starting CJ001 - Missing Queen - Day -  (100)\n",
      "CJ001 - Missing Queen - Day -  (100) is done in 0.22606921195983887s (14/52)\n",
      "Starting CJ001 - Missing Queen - Day -  (101)\n",
      "CJ001 - Missing Queen - Day -  (101) is done in 0.22541570663452148s (15/52)\n",
      "Starting CJ001 - Missing Queen - Day -  (102)\n",
      "CJ001 - Missing Queen - Day -  (102) is done in 0.2008063793182373s (16/52)\n",
      "Starting CJ001 - Missing Queen - Day -  (103)\n",
      "CJ001 - Missing Queen - Day -  (103) is done in 0.333437442779541s (17/52)\n",
      "Starting CJ001 - Missing Queen - Day -  (104)\n",
      "CJ001 - Missing Queen - Day -  (104) is done in 0.37645483016967773s (18/52)\n",
      "Starting Hive1_12_06_2018_QueenBee_H1_audio___15_00_00\n",
      "Hive1_12_06_2018_QueenBee_H1_audio___15_00_00 is done in 1.111398696899414s (19/52)\n",
      "Starting Hive1_12_06_2018_QueenBee_H1_audio___15_10_00\n",
      "Hive1_12_06_2018_QueenBee_H1_audio___15_10_00 is done in 0.8321053981781006s (20/52)\n",
      "Starting Hive1_12_06_2018_QueenBee_H1_audio___15_20_00\n",
      "Hive1_12_06_2018_QueenBee_H1_audio___15_20_00 is done in 1.2029144763946533s (21/52)\n",
      "Starting Hive1_12_06_2018_QueenBee_H1_audio___15_30_00\n",
      "Hive1_12_06_2018_QueenBee_H1_audio___15_30_00 is done in 1.4090347290039062s (22/52)\n",
      "Starting Hive1_12_06_2018_QueenBee_H1_audio___15_40_00\n",
      "Hive1_12_06_2018_QueenBee_H1_audio___15_40_00 is done in 0.6942076683044434s (23/52)\n",
      "Starting Hive1_12_06_2018_QueenBee_H1_audio___16_00_00\n",
      "Hive1_12_06_2018_QueenBee_H1_audio___16_00_00 is done in 1.014915943145752s (24/52)\n",
      "Starting Hive1_12_06_2018_QueenBee_H1_audio___16_10_00\n",
      "Hive1_12_06_2018_QueenBee_H1_audio___16_10_00 is done in 0.8769102096557617s (25/52)\n",
      "Starting Hive1_12_06_2018_QueenBee_H1_audio___16_20_00\n",
      "Hive1_12_06_2018_QueenBee_H1_audio___16_20_00 is done in 0.30396533012390137s (26/52)\n",
      "Starting Hive1_12_06_2018_QueenBee_H1_audio___16_30_00\n",
      "Hive1_12_06_2018_QueenBee_H1_audio___16_30_00 is done in 1.192732572555542s (27/52)\n",
      "Starting Hive1_12_06_2018_QueenBee_H1_audio___16_40_00\n",
      "Warning : Failed to set the position in the file Audio/BeeDataset/RawFilesFromWeb/Hive1_12_06_2018_QueenBee_H1_audio___16_40_00.wav, tried 613 seconds max is 598.4\n",
      "Hive1_12_06_2018_QueenBee_H1_audio___16_40_00 is done in 0.8253383636474609s (28/52)\n",
      "Starting Hive1_12_06_2018_QueenBee_H1_audio___16_50_00\n",
      "Hive1_12_06_2018_QueenBee_H1_audio___16_50_00 is done in 0.4968099594116211s (29/52)\n",
      "Starting Hive1_12_06_2018_QueenBee_H1_audio___17_00_00\n",
      "Hive1_12_06_2018_QueenBee_H1_audio___17_00_00 is done in 0.5532128810882568s (30/52)\n",
      "Starting Hive1_31_05_2018_NO_QueenBee_H1_audio___15_00_00\n",
      "Hive1_31_05_2018_NO_QueenBee_H1_audio___15_00_00 is done in 1.428969383239746s (31/52)\n",
      "Starting Hive1_31_05_2018_NO_QueenBee_H1_audio___15_10_00\n",
      "Hive1_31_05_2018_NO_QueenBee_H1_audio___15_10_00 is done in 0.9415526390075684s (32/52)\n",
      "Starting Hive1_31_05_2018_NO_QueenBee_H1_audio___15_20_00\n",
      "Hive1_31_05_2018_NO_QueenBee_H1_audio___15_20_00 is done in 0.6901531219482422s (33/52)\n",
      "Starting Hive1_31_05_2018_NO_QueenBee_H1_audio___15_30_00\n",
      "Hive1_31_05_2018_NO_QueenBee_H1_audio___15_30_00 is done in 1.076099157333374s (34/52)\n",
      "Starting Hive1_31_05_2018_NO_QueenBee_H1_audio___15_40_00\n",
      "Hive1_31_05_2018_NO_QueenBee_H1_audio___15_40_00 is done in 1.7043156623840332s (35/52)\n",
      "Starting Hive3_12_07_2017_NO_QueenBee_H3_audio___15_00_00\n",
      "Hive3_12_07_2017_NO_QueenBee_H3_audio___15_00_00 is done in 1.5834379196166992s (36/52)\n",
      "Starting Hive3_12_07_2017_NO_QueenBee_H3_audio___15_10_00\n",
      "Hive3_12_07_2017_NO_QueenBee_H3_audio___15_10_00 is done in 1.6759839057922363s (37/52)\n",
      "Starting Hive3_12_07_2017_NO_QueenBee_H3_audio___15_20_00\n",
      "Hive3_12_07_2017_NO_QueenBee_H3_audio___15_20_00 is done in 0.9370651245117188s (38/52)\n",
      "Starting Hive3_12_07_2017_NO_QueenBee_H3_audio___15_30_00\n",
      "Hive3_12_07_2017_NO_QueenBee_H3_audio___15_30_00 is done in 0.5359458923339844s (39/52)\n",
      "Starting Hive3_12_07_2017_NO_QueenBee_H3_audio___15_40_00\n",
      "Hive3_12_07_2017_NO_QueenBee_H3_audio___15_40_00 is done in 0.4920942783355713s (40/52)\n",
      "Starting Hive3_12_07_2017_NO_QueenBee_H3_audio___16_20_00\n",
      "Hive3_12_07_2017_NO_QueenBee_H3_audio___16_20_00 is done in 0.8449370861053467s (41/52)\n",
      "Starting Hive3_12_07_2017_NO_QueenBee_H3_audio___16_30_00\n",
      "Hive3_12_07_2017_NO_QueenBee_H3_audio___16_30_00 is done in 0.25859737396240234s (42/52)\n",
      "Starting Hive3_12_07_2017_NO_QueenBee_H3_audio___16_40_00\n",
      "Warning : Failed to set the position in the file Audio/BeeDataset/RawFilesFromWeb/Hive3_12_07_2017_NO_QueenBee_H3_audio___16_40_00.wav, tried 598 seconds max is 587.4648526077098\n",
      "Hive3_12_07_2017_NO_QueenBee_H3_audio___16_40_00 is done in 0.7497334480285645s (43/52)\n",
      "Starting Hive3_12_07_2017_NO_QueenBee_H3_audio___16_50_00\n",
      "Hive3_12_07_2017_NO_QueenBee_H3_audio___16_50_00 is done in 1.1685497760772705s (44/52)\n",
      "Starting Hive3_12_07_2017_NO_QueenBee_H3_audio___17_00_00\n",
      "Hive3_12_07_2017_NO_QueenBee_H3_audio___17_00_00 is done in 0.9945497512817383s (45/52)\n",
      "Starting Hive3_15_07_2017_NO_QueenBee_H3_audio___06_10_00\n",
      "Hive3_15_07_2017_NO_QueenBee_H3_audio___06_10_00 is done in 0.9988043308258057s (46/52)\n",
      "Starting Hive3_15_07_2017_NO_QueenBee_H3_audio___06_20_00\n",
      "Hive3_15_07_2017_NO_QueenBee_H3_audio___06_20_00 is done in 0.9456009864807129s (47/52)\n",
      "Starting Hive3_15_07_2017_NO_QueenBee_H3_audio___06_30_00\n",
      "Hive3_15_07_2017_NO_QueenBee_H3_audio___06_30_00 is done in 0.9782979488372803s (48/52)\n",
      "Starting Hive3_15_07_2017_NO_QueenBee_H3_audio___06_40_00\n",
      "Hive3_15_07_2017_NO_QueenBee_H3_audio___06_40_00 is done in 1.0131044387817383s (49/52)\n",
      "Starting Hive3_15_07_2017_NO_QueenBee_H3_audio___06_50_00\n",
      "Hive3_15_07_2017_NO_QueenBee_H3_audio___06_50_00 is done in 0.9621729850769043s (50/52)\n",
      "Starting Hive3_15_07_2017_NO_QueenBee_H3_audio___07_00_00\n",
      "Hive3_15_07_2017_NO_QueenBee_H3_audio___07_00_00 is done in 0.6322317123413086s (51/52)\n",
      "Starting Hive3_20_07_2017_QueenBee_H3_audio___06_10_00\n",
      "Hive3_20_07_2017_QueenBee_H3_audio___06_10_00 is done in 1.2915096282958984s (52/52)\n"
     ]
    },
    {
     "data": {
      "text/plain": [
       "[]"
      ]
     },
     "execution_count": 26,
     "metadata": {},
     "output_type": "execute_result"
    }
   ],
   "source": [
    "audioPath = \"Audio/BeeDataset/RawFilesFromWeb/\"\n",
    "neuralNetworkPath = \"Deeplearning/NeuralHivework/\"\n",
    "datasetPath = f\"{neuralNetworkPath}HugeCSVHolder/\"\n",
    "\n",
    "if not os.path.exists(datasetPath):\n",
    "    os.makedirs(datasetPath)\n",
    "sampleSeconds = 10 # Number of seconds we want to have in each sample for the ML\n",
    "\n",
    "datasetName = f\"FastHoneyTransform_{sampleSeconds}.csv\"\n",
    "sizeOfALine = int(55125 / 10 * sampleSeconds) # Size of the line in the csv file\n",
    "\n",
    "datasetCreator.storeEverySampleButLast(audioPath, datasetPath, datasetName, sampleSeconds, verbose=True, timeVerbose=True)\n",
    "\n",
    "verificationDatasetName = f\"LastSamples_{sampleSeconds}.csv\"\n",
    "datasetCreator.storeLastSample(audioPath, datasetPath, verificationDatasetName, sampleSeconds, verbose=True, timeVerbose=True)\n"
   ]
  },
  {
   "cell_type": "markdown",
   "metadata": {},
   "source": [
    "To create a model"
   ]
  },
  {
   "cell_type": "code",
   "execution_count": 28,
   "metadata": {},
   "outputs": [
    {
     "name": "stdout",
     "output_type": "stream",
     "text": [
      "Epoch 1/150\n",
      "30/30 [==============================] - 91s 3s/step - loss: 39.7877 - accuracy: 0.7407\n",
      "Epoch 2/150\n",
      "30/30 [==============================] - 96s 3s/step - loss: 0.8400 - accuracy: 0.7980\n",
      "Epoch 3/150\n",
      "30/30 [==============================] - 200s 7s/step - loss: 1.4260 - accuracy: 0.7980\n",
      "Epoch 4/150\n",
      "30/30 [==============================] - 186s 6s/step - loss: 0.8632 - accuracy: 0.8081\n",
      "Epoch 5/150\n",
      "30/30 [==============================] - 58s 2s/step - loss: 0.6642 - accuracy: 0.8249\n",
      "Epoch 6/150\n",
      "24/30 [=======================>......] - ETA: 11s - loss: 0.9078 - accuracy: 0.8208"
     ]
    },
    {
     "ename": "KeyboardInterrupt",
     "evalue": "",
     "output_type": "error",
     "traceback": [
      "\u001b[1;31m---------------------------------------------------------------------------\u001b[0m",
      "\u001b[1;31mKeyboardInterrupt\u001b[0m                         Traceback (most recent call last)",
      "Cell \u001b[1;32mIn[28], line 2\u001b[0m\n\u001b[0;32m      1\u001b[0m dataLength \u001b[39m=\u001b[39m sizeOfALine\n\u001b[1;32m----> 2\u001b[0m model\u001b[39m.\u001b[39;49mcreateAndStoreModelFromCSV(\u001b[39mf\u001b[39;49m\u001b[39m\"\u001b[39;49m\u001b[39m{\u001b[39;49;00mneuralNetworkPath\u001b[39m}\u001b[39;49;00m\u001b[39mHugeCSVHolder/\u001b[39;49m\u001b[39m{\u001b[39;49;00mdatasetName\u001b[39m}\u001b[39;49;00m\u001b[39m\"\u001b[39;49m, \u001b[39mf\u001b[39;49m\u001b[39m\"\u001b[39;49m\u001b[39m{\u001b[39;49;00mneuralNetworkPath\u001b[39m}\u001b[39;49;00m\u001b[39mModelBeeHealth/model2\u001b[39;49m\u001b[39m\"\u001b[39;49m, [\u001b[39m5000\u001b[39;49m, \u001b[39m3000\u001b[39;49m, \u001b[39m1000\u001b[39;49m, \u001b[39m500\u001b[39;49m, \u001b[39m500\u001b[39;49m], dataLength\u001b[39m=\u001b[39;49mdataLength, verbose\u001b[39m=\u001b[39;49m\u001b[39mTrue\u001b[39;49;00m)   \n",
      "File \u001b[1;32mc:\\Users\\garni\\Documents\\Oulu\\Stage\\beeHealth\\DeepLearning\\NeuralHivework\\ModelFunctions.py:198\u001b[0m, in \u001b[0;36mcreateAndStoreModelFromCSV\u001b[1;34m(inputFileName, outputFileName, layers, dataLength, verbose)\u001b[0m\n\u001b[0;32m    195\u001b[0m \u001b[39mexcept\u001b[39;00m:\n\u001b[0;32m    196\u001b[0m     \u001b[39mraise\u001b[39;00m \u001b[39mException\u001b[39;00m(\u001b[39mf\u001b[39m\u001b[39m\"\u001b[39m\u001b[39mUnable to load the data, verify if the file \u001b[39m\u001b[39m{\u001b[39;00minputFileName\u001b[39m}\u001b[39;00m\u001b[39m exists.\u001b[39m\u001b[39m\"\u001b[39m)\n\u001b[1;32m--> 198\u001b[0m model \u001b[39m=\u001b[39m createModel(X, Y, layers, dataLength, verbose\u001b[39m=\u001b[39;49mverbose)\n\u001b[0;32m    199\u001b[0m evaluateModel(model, X, Y, verbose\u001b[39m=\u001b[39mverbose)\n\u001b[0;32m    200\u001b[0m StoreJSONModel(model, outputFileName, verbose\u001b[39m=\u001b[39mverbose)\n",
      "File \u001b[1;32mc:\\Users\\garni\\Documents\\Oulu\\Stage\\beeHealth\\DeepLearning\\NeuralHivework\\ModelFunctions.py:68\u001b[0m, in \u001b[0;36mcreateModel\u001b[1;34m(X, Y, layers, dataLength, epochs, batchSize, verbose)\u001b[0m\n\u001b[0;32m     65\u001b[0m # Compile model\n\u001b[0;32m     66\u001b[0m model.compile(loss='binary_crossentropy', optimizer='adam', metrics=['accuracy'])\n\u001b[1;32m---> 68\u001b[0m # Fit the model\n\u001b[0;32m     69\u001b[0m model.fit(X, Y, epochs=epochs, batch_size=batchSize, verbose=verbose)\n\u001b[0;32m     71\u001b[0m # evaluate the model\n",
      "File \u001b[1;32m~\\AppData\\Local\\Packages\\PythonSoftwareFoundation.Python.3.11_qbz5n2kfra8p0\\LocalCache\\local-packages\\Python311\\site-packages\\keras\\src\\utils\\traceback_utils.py:65\u001b[0m, in \u001b[0;36mfilter_traceback.<locals>.error_handler\u001b[1;34m(*args, **kwargs)\u001b[0m\n\u001b[0;32m     63\u001b[0m filtered_tb \u001b[39m=\u001b[39m \u001b[39mNone\u001b[39;00m\n\u001b[0;32m     64\u001b[0m \u001b[39mtry\u001b[39;00m:\n\u001b[1;32m---> 65\u001b[0m     \u001b[39mreturn\u001b[39;00m fn(\u001b[39m*\u001b[39;49margs, \u001b[39m*\u001b[39;49m\u001b[39m*\u001b[39;49mkwargs)\n\u001b[0;32m     66\u001b[0m \u001b[39mexcept\u001b[39;00m \u001b[39mException\u001b[39;00m \u001b[39mas\u001b[39;00m e:\n\u001b[0;32m     67\u001b[0m     filtered_tb \u001b[39m=\u001b[39m _process_traceback_frames(e\u001b[39m.\u001b[39m__traceback__)\n",
      "File \u001b[1;32m~\\AppData\\Local\\Packages\\PythonSoftwareFoundation.Python.3.11_qbz5n2kfra8p0\\LocalCache\\local-packages\\Python311\\site-packages\\keras\\src\\engine\\training.py:1742\u001b[0m, in \u001b[0;36mModel.fit\u001b[1;34m(self, x, y, batch_size, epochs, verbose, callbacks, validation_split, validation_data, shuffle, class_weight, sample_weight, initial_epoch, steps_per_epoch, validation_steps, validation_batch_size, validation_freq, max_queue_size, workers, use_multiprocessing)\u001b[0m\n\u001b[0;32m   1734\u001b[0m \u001b[39mwith\u001b[39;00m tf\u001b[39m.\u001b[39mprofiler\u001b[39m.\u001b[39mexperimental\u001b[39m.\u001b[39mTrace(\n\u001b[0;32m   1735\u001b[0m     \u001b[39m\"\u001b[39m\u001b[39mtrain\u001b[39m\u001b[39m\"\u001b[39m,\n\u001b[0;32m   1736\u001b[0m     epoch_num\u001b[39m=\u001b[39mepoch,\n\u001b[1;32m   (...)\u001b[0m\n\u001b[0;32m   1739\u001b[0m     _r\u001b[39m=\u001b[39m\u001b[39m1\u001b[39m,\n\u001b[0;32m   1740\u001b[0m ):\n\u001b[0;32m   1741\u001b[0m     callbacks\u001b[39m.\u001b[39mon_train_batch_begin(step)\n\u001b[1;32m-> 1742\u001b[0m     tmp_logs \u001b[39m=\u001b[39m \u001b[39mself\u001b[39;49m\u001b[39m.\u001b[39;49mtrain_function(iterator)\n\u001b[0;32m   1743\u001b[0m     \u001b[39mif\u001b[39;00m data_handler\u001b[39m.\u001b[39mshould_sync:\n\u001b[0;32m   1744\u001b[0m         context\u001b[39m.\u001b[39masync_wait()\n",
      "File \u001b[1;32m~\\AppData\\Local\\Packages\\PythonSoftwareFoundation.Python.3.11_qbz5n2kfra8p0\\LocalCache\\local-packages\\Python311\\site-packages\\tensorflow\\python\\util\\traceback_utils.py:150\u001b[0m, in \u001b[0;36mfilter_traceback.<locals>.error_handler\u001b[1;34m(*args, **kwargs)\u001b[0m\n\u001b[0;32m    148\u001b[0m filtered_tb \u001b[39m=\u001b[39m \u001b[39mNone\u001b[39;00m\n\u001b[0;32m    149\u001b[0m \u001b[39mtry\u001b[39;00m:\n\u001b[1;32m--> 150\u001b[0m   \u001b[39mreturn\u001b[39;00m fn(\u001b[39m*\u001b[39;49margs, \u001b[39m*\u001b[39;49m\u001b[39m*\u001b[39;49mkwargs)\n\u001b[0;32m    151\u001b[0m \u001b[39mexcept\u001b[39;00m \u001b[39mException\u001b[39;00m \u001b[39mas\u001b[39;00m e:\n\u001b[0;32m    152\u001b[0m   filtered_tb \u001b[39m=\u001b[39m _process_traceback_frames(e\u001b[39m.\u001b[39m__traceback__)\n",
      "File \u001b[1;32m~\\AppData\\Local\\Packages\\PythonSoftwareFoundation.Python.3.11_qbz5n2kfra8p0\\LocalCache\\local-packages\\Python311\\site-packages\\tensorflow\\python\\eager\\polymorphic_function\\polymorphic_function.py:825\u001b[0m, in \u001b[0;36mFunction.__call__\u001b[1;34m(self, *args, **kwds)\u001b[0m\n\u001b[0;32m    822\u001b[0m compiler \u001b[39m=\u001b[39m \u001b[39m\"\u001b[39m\u001b[39mxla\u001b[39m\u001b[39m\"\u001b[39m \u001b[39mif\u001b[39;00m \u001b[39mself\u001b[39m\u001b[39m.\u001b[39m_jit_compile \u001b[39melse\u001b[39;00m \u001b[39m\"\u001b[39m\u001b[39mnonXla\u001b[39m\u001b[39m\"\u001b[39m\n\u001b[0;32m    824\u001b[0m \u001b[39mwith\u001b[39;00m OptionalXlaContext(\u001b[39mself\u001b[39m\u001b[39m.\u001b[39m_jit_compile):\n\u001b[1;32m--> 825\u001b[0m   result \u001b[39m=\u001b[39m \u001b[39mself\u001b[39;49m\u001b[39m.\u001b[39;49m_call(\u001b[39m*\u001b[39;49margs, \u001b[39m*\u001b[39;49m\u001b[39m*\u001b[39;49mkwds)\n\u001b[0;32m    827\u001b[0m new_tracing_count \u001b[39m=\u001b[39m \u001b[39mself\u001b[39m\u001b[39m.\u001b[39mexperimental_get_tracing_count()\n\u001b[0;32m    828\u001b[0m without_tracing \u001b[39m=\u001b[39m (tracing_count \u001b[39m==\u001b[39m new_tracing_count)\n",
      "File \u001b[1;32m~\\AppData\\Local\\Packages\\PythonSoftwareFoundation.Python.3.11_qbz5n2kfra8p0\\LocalCache\\local-packages\\Python311\\site-packages\\tensorflow\\python\\eager\\polymorphic_function\\polymorphic_function.py:857\u001b[0m, in \u001b[0;36mFunction._call\u001b[1;34m(self, *args, **kwds)\u001b[0m\n\u001b[0;32m    854\u001b[0m   \u001b[39mself\u001b[39m\u001b[39m.\u001b[39m_lock\u001b[39m.\u001b[39mrelease()\n\u001b[0;32m    855\u001b[0m   \u001b[39m# In this case we have created variables on the first call, so we run the\u001b[39;00m\n\u001b[0;32m    856\u001b[0m   \u001b[39m# defunned version which is guaranteed to never create variables.\u001b[39;00m\n\u001b[1;32m--> 857\u001b[0m   \u001b[39mreturn\u001b[39;00m \u001b[39mself\u001b[39;49m\u001b[39m.\u001b[39;49m_no_variable_creation_fn(\u001b[39m*\u001b[39;49margs, \u001b[39m*\u001b[39;49m\u001b[39m*\u001b[39;49mkwds)  \u001b[39m# pylint: disable=not-callable\u001b[39;00m\n\u001b[0;32m    858\u001b[0m \u001b[39melif\u001b[39;00m \u001b[39mself\u001b[39m\u001b[39m.\u001b[39m_variable_creation_fn \u001b[39mis\u001b[39;00m \u001b[39mnot\u001b[39;00m \u001b[39mNone\u001b[39;00m:\n\u001b[0;32m    859\u001b[0m   \u001b[39m# Release the lock early so that multiple threads can perform the call\u001b[39;00m\n\u001b[0;32m    860\u001b[0m   \u001b[39m# in parallel.\u001b[39;00m\n\u001b[0;32m    861\u001b[0m   \u001b[39mself\u001b[39m\u001b[39m.\u001b[39m_lock\u001b[39m.\u001b[39mrelease()\n",
      "File \u001b[1;32m~\\AppData\\Local\\Packages\\PythonSoftwareFoundation.Python.3.11_qbz5n2kfra8p0\\LocalCache\\local-packages\\Python311\\site-packages\\tensorflow\\python\\eager\\polymorphic_function\\tracing_compiler.py:148\u001b[0m, in \u001b[0;36mTracingCompiler.__call__\u001b[1;34m(self, *args, **kwargs)\u001b[0m\n\u001b[0;32m    145\u001b[0m \u001b[39mwith\u001b[39;00m \u001b[39mself\u001b[39m\u001b[39m.\u001b[39m_lock:\n\u001b[0;32m    146\u001b[0m   (concrete_function,\n\u001b[0;32m    147\u001b[0m    filtered_flat_args) \u001b[39m=\u001b[39m \u001b[39mself\u001b[39m\u001b[39m.\u001b[39m_maybe_define_function(args, kwargs)\n\u001b[1;32m--> 148\u001b[0m \u001b[39mreturn\u001b[39;00m concrete_function\u001b[39m.\u001b[39;49m_call_flat(\n\u001b[0;32m    149\u001b[0m     filtered_flat_args, captured_inputs\u001b[39m=\u001b[39;49mconcrete_function\u001b[39m.\u001b[39;49mcaptured_inputs)\n",
      "File \u001b[1;32m~\\AppData\\Local\\Packages\\PythonSoftwareFoundation.Python.3.11_qbz5n2kfra8p0\\LocalCache\\local-packages\\Python311\\site-packages\\tensorflow\\python\\eager\\polymorphic_function\\monomorphic_function.py:1349\u001b[0m, in \u001b[0;36mConcreteFunction._call_flat\u001b[1;34m(self, args, captured_inputs)\u001b[0m\n\u001b[0;32m   1345\u001b[0m possible_gradient_type \u001b[39m=\u001b[39m gradients_util\u001b[39m.\u001b[39mPossibleTapeGradientTypes(args)\n\u001b[0;32m   1346\u001b[0m \u001b[39mif\u001b[39;00m (possible_gradient_type \u001b[39m==\u001b[39m gradients_util\u001b[39m.\u001b[39mPOSSIBLE_GRADIENT_TYPES_NONE\n\u001b[0;32m   1347\u001b[0m     \u001b[39mand\u001b[39;00m executing_eagerly):\n\u001b[0;32m   1348\u001b[0m   \u001b[39m# No tape is watching; skip to running the function.\u001b[39;00m\n\u001b[1;32m-> 1349\u001b[0m   \u001b[39mreturn\u001b[39;00m \u001b[39mself\u001b[39m\u001b[39m.\u001b[39m_build_call_outputs(\u001b[39mself\u001b[39;49m\u001b[39m.\u001b[39;49m_inference_function(\u001b[39m*\u001b[39;49margs))\n\u001b[0;32m   1350\u001b[0m forward_backward \u001b[39m=\u001b[39m \u001b[39mself\u001b[39m\u001b[39m.\u001b[39m_select_forward_and_backward_functions(\n\u001b[0;32m   1351\u001b[0m     args,\n\u001b[0;32m   1352\u001b[0m     possible_gradient_type,\n\u001b[0;32m   1353\u001b[0m     executing_eagerly)\n\u001b[0;32m   1354\u001b[0m forward_function, args_with_tangents \u001b[39m=\u001b[39m forward_backward\u001b[39m.\u001b[39mforward()\n",
      "File \u001b[1;32m~\\AppData\\Local\\Packages\\PythonSoftwareFoundation.Python.3.11_qbz5n2kfra8p0\\LocalCache\\local-packages\\Python311\\site-packages\\tensorflow\\python\\eager\\polymorphic_function\\atomic_function.py:196\u001b[0m, in \u001b[0;36mAtomicFunction.__call__\u001b[1;34m(self, *args)\u001b[0m\n\u001b[0;32m    194\u001b[0m \u001b[39mwith\u001b[39;00m record\u001b[39m.\u001b[39mstop_recording():\n\u001b[0;32m    195\u001b[0m   \u001b[39mif\u001b[39;00m \u001b[39mself\u001b[39m\u001b[39m.\u001b[39m_bound_context\u001b[39m.\u001b[39mexecuting_eagerly():\n\u001b[1;32m--> 196\u001b[0m     outputs \u001b[39m=\u001b[39m \u001b[39mself\u001b[39;49m\u001b[39m.\u001b[39;49m_bound_context\u001b[39m.\u001b[39;49mcall_function(\n\u001b[0;32m    197\u001b[0m         \u001b[39mself\u001b[39;49m\u001b[39m.\u001b[39;49mname,\n\u001b[0;32m    198\u001b[0m         \u001b[39mlist\u001b[39;49m(args),\n\u001b[0;32m    199\u001b[0m         \u001b[39mlen\u001b[39;49m(\u001b[39mself\u001b[39;49m\u001b[39m.\u001b[39;49mfunction_type\u001b[39m.\u001b[39;49mflat_outputs),\n\u001b[0;32m    200\u001b[0m     )\n\u001b[0;32m    201\u001b[0m   \u001b[39melse\u001b[39;00m:\n\u001b[0;32m    202\u001b[0m     outputs \u001b[39m=\u001b[39m make_call_op_in_graph(\u001b[39mself\u001b[39m, \u001b[39mlist\u001b[39m(args))\n",
      "File \u001b[1;32m~\\AppData\\Local\\Packages\\PythonSoftwareFoundation.Python.3.11_qbz5n2kfra8p0\\LocalCache\\local-packages\\Python311\\site-packages\\tensorflow\\python\\eager\\context.py:1457\u001b[0m, in \u001b[0;36mContext.call_function\u001b[1;34m(self, name, tensor_inputs, num_outputs)\u001b[0m\n\u001b[0;32m   1455\u001b[0m cancellation_context \u001b[39m=\u001b[39m cancellation\u001b[39m.\u001b[39mcontext()\n\u001b[0;32m   1456\u001b[0m \u001b[39mif\u001b[39;00m cancellation_context \u001b[39mis\u001b[39;00m \u001b[39mNone\u001b[39;00m:\n\u001b[1;32m-> 1457\u001b[0m   outputs \u001b[39m=\u001b[39m execute\u001b[39m.\u001b[39;49mexecute(\n\u001b[0;32m   1458\u001b[0m       name\u001b[39m.\u001b[39;49mdecode(\u001b[39m\"\u001b[39;49m\u001b[39mutf-8\u001b[39;49m\u001b[39m\"\u001b[39;49m),\n\u001b[0;32m   1459\u001b[0m       num_outputs\u001b[39m=\u001b[39;49mnum_outputs,\n\u001b[0;32m   1460\u001b[0m       inputs\u001b[39m=\u001b[39;49mtensor_inputs,\n\u001b[0;32m   1461\u001b[0m       attrs\u001b[39m=\u001b[39;49mattrs,\n\u001b[0;32m   1462\u001b[0m       ctx\u001b[39m=\u001b[39;49m\u001b[39mself\u001b[39;49m,\n\u001b[0;32m   1463\u001b[0m   )\n\u001b[0;32m   1464\u001b[0m \u001b[39melse\u001b[39;00m:\n\u001b[0;32m   1465\u001b[0m   outputs \u001b[39m=\u001b[39m execute\u001b[39m.\u001b[39mexecute_with_cancellation(\n\u001b[0;32m   1466\u001b[0m       name\u001b[39m.\u001b[39mdecode(\u001b[39m\"\u001b[39m\u001b[39mutf-8\u001b[39m\u001b[39m\"\u001b[39m),\n\u001b[0;32m   1467\u001b[0m       num_outputs\u001b[39m=\u001b[39mnum_outputs,\n\u001b[1;32m   (...)\u001b[0m\n\u001b[0;32m   1471\u001b[0m       cancellation_manager\u001b[39m=\u001b[39mcancellation_context,\n\u001b[0;32m   1472\u001b[0m   )\n",
      "File \u001b[1;32m~\\AppData\\Local\\Packages\\PythonSoftwareFoundation.Python.3.11_qbz5n2kfra8p0\\LocalCache\\local-packages\\Python311\\site-packages\\tensorflow\\python\\eager\\execute.py:53\u001b[0m, in \u001b[0;36mquick_execute\u001b[1;34m(op_name, num_outputs, inputs, attrs, ctx, name)\u001b[0m\n\u001b[0;32m     51\u001b[0m \u001b[39mtry\u001b[39;00m:\n\u001b[0;32m     52\u001b[0m   ctx\u001b[39m.\u001b[39mensure_initialized()\n\u001b[1;32m---> 53\u001b[0m   tensors \u001b[39m=\u001b[39m pywrap_tfe\u001b[39m.\u001b[39;49mTFE_Py_Execute(ctx\u001b[39m.\u001b[39;49m_handle, device_name, op_name,\n\u001b[0;32m     54\u001b[0m                                       inputs, attrs, num_outputs)\n\u001b[0;32m     55\u001b[0m \u001b[39mexcept\u001b[39;00m core\u001b[39m.\u001b[39m_NotOkStatusException \u001b[39mas\u001b[39;00m e:\n\u001b[0;32m     56\u001b[0m   \u001b[39mif\u001b[39;00m name \u001b[39mis\u001b[39;00m \u001b[39mnot\u001b[39;00m \u001b[39mNone\u001b[39;00m:\n",
      "\u001b[1;31mKeyboardInterrupt\u001b[0m: "
     ]
    }
   ],
   "source": [
    "dataLength = sizeOfALine\n",
    "model.createAndStoreModelFromCSV(f\"{neuralNetworkPath}HugeCSVHolder/{datasetName}\", f\"{neuralNetworkPath}ModelBeeHealth/model2\", [5000, 3000, 1000, 500, 500], dataLength=dataLength, verbose=True)   "
   ]
  },
  {
   "cell_type": "markdown",
   "metadata": {},
   "source": [
    "To get the model from the computer"
   ]
  },
  {
   "cell_type": "code",
   "execution_count": 20,
   "metadata": {},
   "outputs": [
    {
     "ename": "FileNotFoundError",
     "evalue": "Deeplearning/NeuralHivework/HugeCSVHolder/LastSamples.csv not found.",
     "output_type": "error",
     "traceback": [
      "\u001b[1;31m---------------------------------------------------------------------------\u001b[0m",
      "\u001b[1;31mFileNotFoundError\u001b[0m                         Traceback (most recent call last)",
      "Cell \u001b[1;32mIn[20], line 1\u001b[0m\n\u001b[1;32m----> 1\u001b[0m X, Y \u001b[39m=\u001b[39m model\u001b[39m.\u001b[39;49mloadCSVData(\u001b[39mf\u001b[39;49m\u001b[39m\"\u001b[39;49m\u001b[39m{\u001b[39;49;00mneuralNetworkPath\u001b[39m}\u001b[39;49;00m\u001b[39mHugeCSVHolder/LastSamples.csv\u001b[39;49m\u001b[39m\"\u001b[39;49m, dataLength\u001b[39m=\u001b[39;49mdataLength, verbose\u001b[39m=\u001b[39;49m\u001b[39mTrue\u001b[39;49;00m)\n",
      "File \u001b[1;32mc:\\Users\\garni\\Documents\\Oulu\\Stage\\beeHealth\\DeepLearning\\NeuralHivework\\ModelFunctions.py:26\u001b[0m, in \u001b[0;36mloadCSVData\u001b[1;34m(fileName, dataLength, verbose)\u001b[0m\n\u001b[0;32m     24\u001b[0m if fileName[-4:] != \".csv\":\n\u001b[0;32m     25\u001b[0m     raise Exception(\"fileName must be a csv , file was : \" + fileName)\n\u001b[1;32m---> 26\u001b[0m # load the datatset\n\u001b[0;32m     27\u001b[0m dataset = loadtxt(fileName, delimiter=\",\")\n\u001b[0;32m     29\u001b[0m # split into input (X : data) and output (Y : expected result) variables\n",
      "File \u001b[1;32m~\\AppData\\Local\\Packages\\PythonSoftwareFoundation.Python.3.11_qbz5n2kfra8p0\\LocalCache\\local-packages\\Python311\\site-packages\\numpy\\lib\\npyio.py:1356\u001b[0m, in \u001b[0;36mloadtxt\u001b[1;34m(fname, dtype, comments, delimiter, converters, skiprows, usecols, unpack, ndmin, encoding, max_rows, quotechar, like)\u001b[0m\n\u001b[0;32m   1353\u001b[0m \u001b[39mif\u001b[39;00m \u001b[39misinstance\u001b[39m(delimiter, \u001b[39mbytes\u001b[39m):\n\u001b[0;32m   1354\u001b[0m     delimiter \u001b[39m=\u001b[39m delimiter\u001b[39m.\u001b[39mdecode(\u001b[39m'\u001b[39m\u001b[39mlatin1\u001b[39m\u001b[39m'\u001b[39m)\n\u001b[1;32m-> 1356\u001b[0m arr \u001b[39m=\u001b[39m _read(fname, dtype\u001b[39m=\u001b[39;49mdtype, comment\u001b[39m=\u001b[39;49mcomment, delimiter\u001b[39m=\u001b[39;49mdelimiter,\n\u001b[0;32m   1357\u001b[0m             converters\u001b[39m=\u001b[39;49mconverters, skiplines\u001b[39m=\u001b[39;49mskiprows, usecols\u001b[39m=\u001b[39;49musecols,\n\u001b[0;32m   1358\u001b[0m             unpack\u001b[39m=\u001b[39;49munpack, ndmin\u001b[39m=\u001b[39;49mndmin, encoding\u001b[39m=\u001b[39;49mencoding,\n\u001b[0;32m   1359\u001b[0m             max_rows\u001b[39m=\u001b[39;49mmax_rows, quote\u001b[39m=\u001b[39;49mquotechar)\n\u001b[0;32m   1361\u001b[0m \u001b[39mreturn\u001b[39;00m arr\n",
      "File \u001b[1;32m~\\AppData\\Local\\Packages\\PythonSoftwareFoundation.Python.3.11_qbz5n2kfra8p0\\LocalCache\\local-packages\\Python311\\site-packages\\numpy\\lib\\npyio.py:975\u001b[0m, in \u001b[0;36m_read\u001b[1;34m(fname, delimiter, comment, quote, imaginary_unit, usecols, skiplines, max_rows, converters, ndmin, unpack, dtype, encoding)\u001b[0m\n\u001b[0;32m    973\u001b[0m     fname \u001b[39m=\u001b[39m os\u001b[39m.\u001b[39mfspath(fname)\n\u001b[0;32m    974\u001b[0m \u001b[39mif\u001b[39;00m \u001b[39misinstance\u001b[39m(fname, \u001b[39mstr\u001b[39m):\n\u001b[1;32m--> 975\u001b[0m     fh \u001b[39m=\u001b[39m np\u001b[39m.\u001b[39;49mlib\u001b[39m.\u001b[39;49m_datasource\u001b[39m.\u001b[39;49mopen(fname, \u001b[39m'\u001b[39;49m\u001b[39mrt\u001b[39;49m\u001b[39m'\u001b[39;49m, encoding\u001b[39m=\u001b[39;49mencoding)\n\u001b[0;32m    976\u001b[0m     \u001b[39mif\u001b[39;00m encoding \u001b[39mis\u001b[39;00m \u001b[39mNone\u001b[39;00m:\n\u001b[0;32m    977\u001b[0m         encoding \u001b[39m=\u001b[39m \u001b[39mgetattr\u001b[39m(fh, \u001b[39m'\u001b[39m\u001b[39mencoding\u001b[39m\u001b[39m'\u001b[39m, \u001b[39m'\u001b[39m\u001b[39mlatin1\u001b[39m\u001b[39m'\u001b[39m)\n",
      "File \u001b[1;32m~\\AppData\\Local\\Packages\\PythonSoftwareFoundation.Python.3.11_qbz5n2kfra8p0\\LocalCache\\local-packages\\Python311\\site-packages\\numpy\\lib\\_datasource.py:193\u001b[0m, in \u001b[0;36mopen\u001b[1;34m(path, mode, destpath, encoding, newline)\u001b[0m\n\u001b[0;32m    156\u001b[0m \u001b[39m\u001b[39m\u001b[39m\"\"\"\u001b[39;00m\n\u001b[0;32m    157\u001b[0m \u001b[39mOpen `path` with `mode` and return the file object.\u001b[39;00m\n\u001b[0;32m    158\u001b[0m \n\u001b[1;32m   (...)\u001b[0m\n\u001b[0;32m    189\u001b[0m \n\u001b[0;32m    190\u001b[0m \u001b[39m\"\"\"\u001b[39;00m\n\u001b[0;32m    192\u001b[0m ds \u001b[39m=\u001b[39m DataSource(destpath)\n\u001b[1;32m--> 193\u001b[0m \u001b[39mreturn\u001b[39;00m ds\u001b[39m.\u001b[39;49mopen(path, mode, encoding\u001b[39m=\u001b[39;49mencoding, newline\u001b[39m=\u001b[39;49mnewline)\n",
      "File \u001b[1;32m~\\AppData\\Local\\Packages\\PythonSoftwareFoundation.Python.3.11_qbz5n2kfra8p0\\LocalCache\\local-packages\\Python311\\site-packages\\numpy\\lib\\_datasource.py:533\u001b[0m, in \u001b[0;36mDataSource.open\u001b[1;34m(self, path, mode, encoding, newline)\u001b[0m\n\u001b[0;32m    530\u001b[0m     \u001b[39mreturn\u001b[39;00m _file_openers[ext](found, mode\u001b[39m=\u001b[39mmode,\n\u001b[0;32m    531\u001b[0m                               encoding\u001b[39m=\u001b[39mencoding, newline\u001b[39m=\u001b[39mnewline)\n\u001b[0;32m    532\u001b[0m \u001b[39melse\u001b[39;00m:\n\u001b[1;32m--> 533\u001b[0m     \u001b[39mraise\u001b[39;00m \u001b[39mFileNotFoundError\u001b[39;00m(\u001b[39mf\u001b[39m\u001b[39m\"\u001b[39m\u001b[39m{\u001b[39;00mpath\u001b[39m}\u001b[39;00m\u001b[39m not found.\u001b[39m\u001b[39m\"\u001b[39m)\n",
      "\u001b[1;31mFileNotFoundError\u001b[0m: Deeplearning/NeuralHivework/HugeCSVHolder/LastSamples.csv not found."
     ]
    }
   ],
   "source": [
    "X, Y = model.loadCSVData(f\"{neuralNetworkPath}HugeCSVHolder/LastSamples.csv\", dataLength=dataLength, verbose=True)"
   ]
  },
  {
   "cell_type": "markdown",
   "metadata": {},
   "source": [
    "To evaluate the project"
   ]
  },
  {
   "cell_type": "code",
   "execution_count": null,
   "metadata": {},
   "outputs": [
    {
     "ename": "FileNotFoundError",
     "evalue": "[Errno 2] No such file or directory: 'ModelBeeHealth/model2.json'",
     "output_type": "error",
     "traceback": [
      "\u001b[1;31m---------------------------------------------------------------------------\u001b[0m",
      "\u001b[1;31mFileNotFoundError\u001b[0m                         Traceback (most recent call last)",
      "Cell \u001b[1;32mIn[54], line 1\u001b[0m\n\u001b[1;32m----> 1\u001b[0m p, y \u001b[39m=\u001b[39m model\u001b[39m.\u001b[39mpredict(model\u001b[39m.\u001b[39;49mloadModel(\u001b[39mf\u001b[39;49m\u001b[39m\"\u001b[39;49m\u001b[39mModelBeeHealth/model2\u001b[39;49m\u001b[39m\"\u001b[39;49m), X, Y, timeVerbose\u001b[39m=\u001b[39m\u001b[39mTrue\u001b[39;00m)\n\u001b[0;32m      3\u001b[0m s \u001b[39m=\u001b[39m \u001b[39m0\u001b[39m\n\u001b[0;32m      4\u001b[0m \u001b[39mfor\u001b[39;00m prediction, expected \u001b[39min\u001b[39;00m \u001b[39mzip\u001b[39m(p\u001b[39m.\u001b[39mtolist(), y\u001b[39m.\u001b[39mtolist()) :\n",
      "File \u001b[1;32mc:\\Users\\garni\\Documents\\Oulu\\Stage\\beeHealth\\DeepLearning\\NeuralHivework\\ModelFunctions.py:123\u001b[0m, in \u001b[0;36mloadModel\u001b[1;34m(fileName, verbose)\u001b[0m\n\u001b[0;32m    121\u001b[0m t \u001b[39m=\u001b[39m time()\n\u001b[0;32m    122\u001b[0m \u001b[39m# load json and create model\u001b[39;00m\n\u001b[1;32m--> 123\u001b[0m loadedModel \u001b[39m=\u001b[39m LoadJSONModel(fileName, verbose\u001b[39m=\u001b[39;49mverbose)\n\u001b[0;32m    125\u001b[0m \u001b[39m# evaluate loaded model on test data\u001b[39;00m\n\u001b[0;32m    126\u001b[0m loadedModel\u001b[39m.\u001b[39mcompile(loss\u001b[39m=\u001b[39m\u001b[39m'\u001b[39m\u001b[39mbinary_crossentropy\u001b[39m\u001b[39m'\u001b[39m, optimizer\u001b[39m=\u001b[39m\u001b[39m'\u001b[39m\u001b[39mrmsprop\u001b[39m\u001b[39m'\u001b[39m, metrics\u001b[39m=\u001b[39m[\u001b[39m'\u001b[39m\u001b[39maccuracy\u001b[39m\u001b[39m'\u001b[39m])\n",
      "File \u001b[1;32mc:\\Users\\garni\\Documents\\Oulu\\Stage\\beeHealth\\DeepLearning\\NeuralHivework\\ModelFunctions.py:103\u001b[0m, in \u001b[0;36mLoadJSONModel\u001b[1;34m(fileName, verbose)\u001b[0m\n\u001b[0;32m     95\u001b[0m \u001b[39mdef\u001b[39;00m \u001b[39mLoadJSONModel\u001b[39m(fileName : \u001b[39mstr\u001b[39m, verbose : \u001b[39mbool\u001b[39m \u001b[39m=\u001b[39m \u001b[39mFalse\u001b[39;00m):\n\u001b[0;32m     96\u001b[0m     \u001b[39m# Load a model from a json and a h5 file\u001b[39;00m\n\u001b[0;32m     97\u001b[0m     \u001b[39m# @arguments : - fileName : name of the file where the data is stored without the extension\u001b[39;00m\n\u001b[1;32m   (...)\u001b[0m\n\u001b[0;32m    101\u001b[0m \n\u001b[0;32m    102\u001b[0m     \u001b[39m# open the json file\u001b[39;00m\n\u001b[1;32m--> 103\u001b[0m     jsonFile \u001b[39m=\u001b[39m \u001b[39mopen\u001b[39;49m(fileName\u001b[39m+\u001b[39;49m\u001b[39m'\u001b[39;49m\u001b[39m.json\u001b[39;49m\u001b[39m'\u001b[39;49m, \u001b[39m'\u001b[39;49m\u001b[39mr\u001b[39;49m\u001b[39m'\u001b[39;49m)\n\u001b[0;32m    104\u001b[0m     loadedModelJson \u001b[39m=\u001b[39m jsonFile\u001b[39m.\u001b[39mread()\n\u001b[0;32m    105\u001b[0m     jsonFile\u001b[39m.\u001b[39mclose()\n",
      "\u001b[1;31mFileNotFoundError\u001b[0m: [Errno 2] No such file or directory: 'ModelBeeHealth/model2.json'"
     ]
    }
   ],
   "source": [
    "p, y = model.predict(model.loadModel(f\"ModelBeeHealth/model2\"), X, Y, timeVerbose=True)\n",
    "\n",
    "s = 0\n",
    "for prediction, expected in zip(p.tolist(), y.tolist()) :\n",
    "    if(prediction[0] == (int) (expected)):\n",
    "        s += 1\n",
    "\n",
    "print(f\"Accuracy : {s / len(p) * 100}\")"
   ]
  }
 ],
 "metadata": {
  "kernelspec": {
   "display_name": "Python 3",
   "language": "python",
   "name": "python3"
  },
  "language_info": {
   "codemirror_mode": {
    "name": "ipython",
    "version": 3
   },
   "file_extension": ".py",
   "mimetype": "text/x-python",
   "name": "python",
   "nbconvert_exporter": "python",
   "pygments_lexer": "ipython3",
   "version": "3.11.4"
  },
  "orig_nbformat": 4
 },
 "nbformat": 4,
 "nbformat_minor": 2
}
