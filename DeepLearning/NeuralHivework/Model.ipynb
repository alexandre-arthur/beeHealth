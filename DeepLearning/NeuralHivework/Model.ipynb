{
 "cells": [
  {
   "cell_type": "markdown",
   "metadata": {},
   "source": [
    "File to use the Machine Learning in the project"
   ]
  },
  {
   "cell_type": "code",
   "execution_count": 1,
   "metadata": {},
   "outputs": [],
   "source": [
    "# Import the other files in the project\n",
    "\n",
    "import ModelFunctions as model\n",
    "import HoneyDatasetCreator as datasetCreator"
   ]
  },
  {
   "cell_type": "markdown",
   "metadata": {},
   "source": [
    "To create the dataset for the ML"
   ]
  },
  {
   "cell_type": "code",
   "execution_count": null,
   "metadata": {},
   "outputs": [],
   "source": [
    "audioPath = \"Audio/BeeDataset/RawFilesFromWeb/\"\n",
    "datasetPath = \"DeepLearning/NeuralHivework/HugeCSVHolder/\"\n",
    "sampleSeconds = 10 # Number of seconds we want to have in each sample for the ML\n",
    "\n",
    "\n",
    "datasetName = f\"FastHoneyTransform_{sampleSeconds}.csv\"\n",
    "sizeOfALine = int(55125 / 10 * sampleSeconds) # Size of the line in the csv file\n",
    "\n",
    "datasetCreator.storeEverySampleButLast(audioPath, datasetPath, datasetName, sampleSeconds, verbose=True, timeVerbose=True)\n",
    "\n",
    "datasetName = f\"LastSamples_{sampleSeconds}.csv\"\n",
    "datasetCreator.storeLastSample(audioPath, datasetPath, datasetName, sampleSeconds, verbose=True, timeVerbose=True)\n"
   ]
  },
  {
   "cell_type": "markdown",
   "metadata": {},
   "source": [
    "To create a model"
   ]
  },
  {
   "cell_type": "code",
   "execution_count": null,
   "metadata": {},
   "outputs": [],
   "source": [
    "\n",
    "path = f\"DeepLearning/NeuralHivework/\"\n",
    "dataLength = sizeOfALine\n",
    "model.createAndStoreModelFromCSV(f\"{path}/HugeCSVHolder/FastHoneyTransform2.csv\", f\"{path}ModelBeeHealth/model2\", [5000, 3000, 1000, 500, 500], data_length=dataLength, verbose=True)   "
   ]
  },
  {
   "cell_type": "markdown",
   "metadata": {},
   "source": [
    "To get the model from the computer"
   ]
  },
  {
   "cell_type": "code",
   "execution_count": null,
   "metadata": {},
   "outputs": [],
   "source": [
    "X, Y = model.loadCSVData(f\"{path}HugeCSVHolder/LastSamples.csv\", data_length=dataLength, verbose=True)"
   ]
  },
  {
   "cell_type": "markdown",
   "metadata": {},
   "source": [
    "To evaluate the project"
   ]
  },
  {
   "cell_type": "code",
   "execution_count": null,
   "metadata": {},
   "outputs": [],
   "source": [
    "p, y = model.predict(model.loadModel(f\"{path}/ModelBeeHealth/model2\"), X, Y, timeVerbose=True)\n",
    "\n",
    "s = 0\n",
    "for prediction, expected in zip(p.tolist(), y.tolist()) :\n",
    "    if(prediction[0] == (int) (expected)):\n",
    "        s += 1\n",
    "\n",
    "print(f\"Accuracy : {s / len(p) * 100}\")"
   ]
  }
 ],
 "metadata": {
  "kernelspec": {
   "display_name": "Python 3",
   "language": "python",
   "name": "python3"
  },
  "language_info": {
   "codemirror_mode": {
    "name": "ipython",
    "version": 3
   },
   "file_extension": ".py",
   "mimetype": "text/x-python",
   "name": "python",
   "nbconvert_exporter": "python",
   "pygments_lexer": "ipython3",
   "version": "3.11.4"
  },
  "orig_nbformat": 4
 },
 "nbformat": 4,
 "nbformat_minor": 2
}
